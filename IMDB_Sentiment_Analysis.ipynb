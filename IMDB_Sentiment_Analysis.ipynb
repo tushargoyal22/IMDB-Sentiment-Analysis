{
  "nbformat": 4,
  "nbformat_minor": 0,
  "metadata": {
    "colab": {
      "name": "IMDB_Sentiment_Analysis.ipynb",
      "provenance": []
    },
    "kernelspec": {
      "name": "python3",
      "display_name": "Python 3"
    },
    "accelerator": "GPU"
  },
  "cells": [
    {
      "cell_type": "markdown",
      "metadata": {
        "id": "WKyPahIPCba6"
      },
      "source": [
        "## Classifying Movie Reviews\n",
        "\n",
        "Binary Classification on IMDB Dataset\n",
        "\n",
        "Inputs: 50,000 Reviews\n",
        "\n",
        "Output: Positive and Negative"
      ]
    },
    {
      "cell_type": "markdown",
      "metadata": {
        "id": "F1BDV7GOAuGC"
      },
      "source": [
        "**Sentiment Analysis**\n",
        "\n",
        "Analysing a given set of words to predict the sentiment in the paragraph.\n",
        "\n",
        "**IMDB Large Movie Dataset**\n",
        "\n",
        "- The dataset has a huge number of 50,000 reviews\n",
        "- All of these reviews are in English, polarised labelled reviews\n",
        "\n",
        "**Load the IMDB Dataset With Keras**\n",
        "- Keras provides access to the IMDB dataset built-in.\n",
        "\n",
        "- The keras.datasets.imdb.load_data() allows you to load the dataset in a format that is ready for use in neural network and deep learning models.\n",
        "\n",
        "- The words have been replaced by integers that indicate the absolute popularity of the word in the dataset. The sentences in each review are therefore comprised of a sequence of integers."
      ]
    },
    {
      "cell_type": "code",
      "metadata": {
        "id": "24_Btqt_BnVM"
      },
      "source": [
        "from keras.datasets import imdb"
      ],
      "execution_count": 24,
      "outputs": []
    },
    {
      "cell_type": "markdown",
      "metadata": {
        "id": "y4xZOd_BC7ua"
      },
      "source": [
        "## Data Preperation"
      ]
    },
    {
      "cell_type": "code",
      "metadata": {
        "id": "sqzAHhT5C945"
      },
      "source": [
        "(( XT,YT), (Xt,Yt)) = imdb.load_data(num_words = 10000)"
      ],
      "execution_count": 25,
      "outputs": []
    },
    {
      "cell_type": "code",
      "metadata": {
        "id": "Ao1oRiggDQbA",
        "outputId": "2e339f3a-5f18-4a7b-a8a5-cab5afc77058",
        "colab": {
          "base_uri": "https://localhost:8080/",
          "height": 88
        }
      },
      "source": [
        "import numpy as np\n",
        "print(len(XT))\n",
        "print(len(Xt))\n",
        "print(XT[0])"
      ],
      "execution_count": 26,
      "outputs": [
        {
          "output_type": "stream",
          "text": [
            "25000\n",
            "25000\n",
            "[1, 14, 22, 16, 43, 530, 973, 1622, 1385, 65, 458, 4468, 66, 3941, 4, 173, 36, 256, 5, 25, 100, 43, 838, 112, 50, 670, 2, 9, 35, 480, 284, 5, 150, 4, 172, 112, 167, 2, 336, 385, 39, 4, 172, 4536, 1111, 17, 546, 38, 13, 447, 4, 192, 50, 16, 6, 147, 2025, 19, 14, 22, 4, 1920, 4613, 469, 4, 22, 71, 87, 12, 16, 43, 530, 38, 76, 15, 13, 1247, 4, 22, 17, 515, 17, 12, 16, 626, 18, 2, 5, 62, 386, 12, 8, 316, 8, 106, 5, 4, 2223, 5244, 16, 480, 66, 3785, 33, 4, 130, 12, 16, 38, 619, 5, 25, 124, 51, 36, 135, 48, 25, 1415, 33, 6, 22, 12, 215, 28, 77, 52, 5, 14, 407, 16, 82, 2, 8, 4, 107, 117, 5952, 15, 256, 4, 2, 7, 3766, 5, 723, 36, 71, 43, 530, 476, 26, 400, 317, 46, 7, 4, 2, 1029, 13, 104, 88, 4, 381, 15, 297, 98, 32, 2071, 56, 26, 141, 6, 194, 7486, 18, 4, 226, 22, 21, 134, 476, 26, 480, 5, 144, 30, 5535, 18, 51, 36, 28, 224, 92, 25, 104, 4, 226, 65, 16, 38, 1334, 88, 12, 16, 283, 5, 16, 4472, 113, 103, 32, 15, 16, 5345, 19, 178, 32]\n"
          ],
          "name": "stdout"
        }
      ]
    },
    {
      "cell_type": "markdown",
      "metadata": {
        "id": "PCK5-Et9Eg43"
      },
      "source": [
        "To check how the data looks like we use get_word_index() which returns word index dictionary\n"
      ]
    },
    {
      "cell_type": "code",
      "metadata": {
        "id": "3lDhMGnCDWhA"
      },
      "source": [
        "word_idx = imdb.get_word_index()\n",
        "# print(word_idx.items())"
      ],
      "execution_count": 27,
      "outputs": []
    },
    {
      "cell_type": "code",
      "metadata": {
        "id": "uKb-EsI0Eunz"
      },
      "source": [
        "idx_word = dict([val,key] for (key,val) in word_idx.items())\n",
        "# print(idx_word.items())"
      ],
      "execution_count": 28,
      "outputs": []
    },
    {
      "cell_type": "code",
      "metadata": {
        "id": "vhwwet2eFBKF",
        "outputId": "4ecf5903-5a22-454a-d405-769fed6e4716",
        "colab": {
          "base_uri": "https://localhost:8080/",
          "height": 103
        }
      },
      "source": [
        "actual_review = ' '.join([idx_word.get(idx-3,'?') for idx in XT[0]])\n",
        "actual_review"
      ],
      "execution_count": 29,
      "outputs": [
        {
          "output_type": "execute_result",
          "data": {
            "application/vnd.google.colaboratory.intrinsic+json": {
              "type": "string"
            },
            "text/plain": [
              "\"? this film was just brilliant casting location scenery story direction everyone's really suited the part they played and you could just imagine being there robert ? is an amazing actor and now the same being director ? father came from the same scottish island as myself so i loved the fact there was a real connection with this film the witty remarks throughout the film were great it was just brilliant so much that i bought the film as soon as it was released for ? and would recommend it to everyone to watch and the fly fishing was amazing really cried at the end it was so sad and you know what they say if you cry at a film it must have been good and this definitely was also ? to the two little boy's that played the ? of norman and paul they were just brilliant children are often left out of the ? list i think because the stars that play them all grown up are such a big profile for the whole film but these children are amazing and should be praised for what they have done don't you think the whole story was so lovely because it was true and was someone's life after all that was shared with us all\""
            ]
          },
          "metadata": {
            "tags": []
          },
          "execution_count": 29
        }
      ]
    },
    {
      "cell_type": "code",
      "metadata": {
        "id": "HEESyBA_FXaA"
      },
      "source": [
        "# Next Step -  Vectorize the Data\n",
        "# Vocab size - 10,000 we will make every sentence is represented by vector of len 10k [0010100..1....1..0..1..]\n",
        "\n",
        "def vectorize_sentences(sentences,dim = 10000):\n",
        "  outputs = np.zeros((len(sentences),10000))\n",
        "\n",
        "  for i,idx in enumerate(sentences):\n",
        "    \n",
        "    outputs[i,idx] = 1\n",
        "\n",
        "  return outputs"
      ],
      "execution_count": 30,
      "outputs": []
    },
    {
      "cell_type": "code",
      "metadata": {
        "id": "HcZZzy5QFxae",
        "outputId": "e5e222b6-0042-462d-e0ae-b73bbbd5dad9",
        "colab": {
          "base_uri": "https://localhost:8080/",
          "height": 68
        }
      },
      "source": [
        "X_train = vectorize_sentences(XT)\n",
        "X_test = vectorize_sentences(Xt)\n",
        "print(X_train.shape)\n",
        "print(X_train[0].shape)\n",
        "X_train[0]"
      ],
      "execution_count": 31,
      "outputs": [
        {
          "output_type": "stream",
          "text": [
            "(25000, 10000)\n",
            "(10000,)\n"
          ],
          "name": "stdout"
        },
        {
          "output_type": "execute_result",
          "data": {
            "text/plain": [
              "array([0., 1., 1., ..., 0., 0., 0.])"
            ]
          },
          "metadata": {
            "tags": []
          },
          "execution_count": 31
        }
      ]
    },
    {
      "cell_type": "code",
      "metadata": {
        "id": "SG3LzLbDGVwG",
        "outputId": "7394c4e3-0124-4c06-c684-bf3066282f4c",
        "colab": {
          "base_uri": "https://localhost:8080/",
          "height": 34
        }
      },
      "source": [
        "print(YT.shape)"
      ],
      "execution_count": 32,
      "outputs": [
        {
          "output_type": "stream",
          "text": [
            "(25000,)\n"
          ],
          "name": "stdout"
        }
      ]
    },
    {
      "cell_type": "code",
      "metadata": {
        "id": "o_giN9EgGw8W",
        "outputId": "3e1e94b0-6463-4790-dc67-3eae66f863c3",
        "colab": {
          "base_uri": "https://localhost:8080/",
          "height": 34
        }
      },
      "source": [
        "#converting YT,Yt to numpy array\n",
        "Y_train = np.asarray(YT).astype('float32')\n",
        "Y_test = np.asarray(Yt).astype('float32')\n",
        "print(Y_train.shape)"
      ],
      "execution_count": 33,
      "outputs": [
        {
          "output_type": "stream",
          "text": [
            "(25000,)\n"
          ],
          "name": "stdout"
        }
      ]
    },
    {
      "cell_type": "markdown",
      "metadata": {
        "id": "arBxm-TyH7ux"
      },
      "source": [
        "### Define Your Model Architecture\n",
        "-  Use fully connected/Dense Layers with ReLu Activation\n",
        "- 2 Hidden Layers with 16 Units each\n",
        "- 1 Output layer with 1 unit(Sigmoid function)"
      ]
    },
    {
      "cell_type": "code",
      "metadata": {
        "id": "CkATDwYWHBsQ"
      },
      "source": [
        "from keras import models\n",
        "from keras.layers import Dense"
      ],
      "execution_count": 34,
      "outputs": []
    },
    {
      "cell_type": "code",
      "metadata": {
        "id": "hHRkjIBeImbP"
      },
      "source": [
        "#define the model\n",
        "model = models.Sequential()\n",
        "model.add( Dense ( 16,activation = 'relu',input_shape = (10000,) ) )\n",
        "model.add(Dense(16,activation = 'relu'))\n",
        "model.add(Dense(1,activation = 'sigmoid'))"
      ],
      "execution_count": 35,
      "outputs": []
    },
    {
      "cell_type": "code",
      "metadata": {
        "id": "3NW5mqbHJB_t"
      },
      "source": [
        ""
      ],
      "execution_count": 35,
      "outputs": []
    },
    {
      "cell_type": "code",
      "metadata": {
        "id": "0pihcTFZI9_P"
      },
      "source": [
        "# Compile the model\n",
        "model.compile(optimizer='rmsprop' , loss = 'binary_crossentropy',metrics =['accuracy'])"
      ],
      "execution_count": 36,
      "outputs": []
    },
    {
      "cell_type": "code",
      "metadata": {
        "id": "O_T6eiTxJTPp",
        "outputId": "c7956570-44be-407d-e41c-a240ba99e187",
        "colab": {
          "base_uri": "https://localhost:8080/",
          "height": 255
        }
      },
      "source": [
        "model.summary()"
      ],
      "execution_count": 37,
      "outputs": [
        {
          "output_type": "stream",
          "text": [
            "Model: \"sequential_1\"\n",
            "_________________________________________________________________\n",
            "Layer (type)                 Output Shape              Param #   \n",
            "=================================================================\n",
            "dense_3 (Dense)              (None, 16)                160016    \n",
            "_________________________________________________________________\n",
            "dense_4 (Dense)              (None, 16)                272       \n",
            "_________________________________________________________________\n",
            "dense_5 (Dense)              (None, 1)                 17        \n",
            "=================================================================\n",
            "Total params: 160,305\n",
            "Trainable params: 160,305\n",
            "Non-trainable params: 0\n",
            "_________________________________________________________________\n"
          ],
          "name": "stdout"
        }
      ]
    },
    {
      "cell_type": "markdown",
      "metadata": {
        "id": "vqdW9n7_MX5C"
      },
      "source": [
        "## Training and Validation\n",
        "\n",
        "Out of 25000 training points ,lets pick first 5000 for validation and 20k for training"
      ]
    },
    {
      "cell_type": "code",
      "metadata": {
        "id": "BZ4co_UIJUvn"
      },
      "source": [
        "x_val = X_train[:5000]\n",
        "x_train_new = X_train[5000:]\n",
        "\n",
        "y_val = Y_train[:5000]\n",
        "y_train_new = Y_train[5000:]\n"
      ],
      "execution_count": 38,
      "outputs": []
    },
    {
      "cell_type": "code",
      "metadata": {
        "id": "2OXIgLIuNnrX",
        "outputId": "140120e4-e13d-4b40-dad8-a1da31a9cafd",
        "colab": {
          "base_uri": "https://localhost:8080/",
          "height": 527
        }
      },
      "source": [
        "hist = model.fit(x_train_new , y_train_new , epochs = 15, batch_size = 512 , validation_data=(x_val,y_val) )"
      ],
      "execution_count": 39,
      "outputs": [
        {
          "output_type": "stream",
          "text": [
            "Epoch 1/15\n",
            "40/40 [==============================] - 1s 20ms/step - loss: 0.5086 - accuracy: 0.7901 - val_loss: 0.3731 - val_accuracy: 0.8768\n",
            "Epoch 2/15\n",
            "40/40 [==============================] - 1s 14ms/step - loss: 0.2954 - accuracy: 0.9042 - val_loss: 0.2915 - val_accuracy: 0.8882\n",
            "Epoch 3/15\n",
            "40/40 [==============================] - 1s 15ms/step - loss: 0.2191 - accuracy: 0.9262 - val_loss: 0.2708 - val_accuracy: 0.8950\n",
            "Epoch 4/15\n",
            "40/40 [==============================] - 1s 14ms/step - loss: 0.1723 - accuracy: 0.9425 - val_loss: 0.2933 - val_accuracy: 0.8826\n",
            "Epoch 5/15\n",
            "40/40 [==============================] - 1s 14ms/step - loss: 0.1452 - accuracy: 0.9510 - val_loss: 0.3167 - val_accuracy: 0.8804\n",
            "Epoch 6/15\n",
            "40/40 [==============================] - 1s 14ms/step - loss: 0.1239 - accuracy: 0.9584 - val_loss: 0.2932 - val_accuracy: 0.8908\n",
            "Epoch 7/15\n",
            "40/40 [==============================] - 1s 14ms/step - loss: 0.1043 - accuracy: 0.9660 - val_loss: 0.3128 - val_accuracy: 0.8882\n",
            "Epoch 8/15\n",
            "40/40 [==============================] - 1s 15ms/step - loss: 0.0915 - accuracy: 0.9704 - val_loss: 0.3477 - val_accuracy: 0.8822\n",
            "Epoch 9/15\n",
            "40/40 [==============================] - 1s 14ms/step - loss: 0.0760 - accuracy: 0.9766 - val_loss: 0.3567 - val_accuracy: 0.8828\n",
            "Epoch 10/15\n",
            "40/40 [==============================] - 1s 14ms/step - loss: 0.0641 - accuracy: 0.9810 - val_loss: 0.3815 - val_accuracy: 0.8784\n",
            "Epoch 11/15\n",
            "40/40 [==============================] - 1s 14ms/step - loss: 0.0546 - accuracy: 0.9840 - val_loss: 0.4031 - val_accuracy: 0.8798\n",
            "Epoch 12/15\n",
            "40/40 [==============================] - 1s 14ms/step - loss: 0.0442 - accuracy: 0.9885 - val_loss: 0.4539 - val_accuracy: 0.8706\n",
            "Epoch 13/15\n",
            "40/40 [==============================] - 1s 14ms/step - loss: 0.0410 - accuracy: 0.9892 - val_loss: 0.4863 - val_accuracy: 0.8716\n",
            "Epoch 14/15\n",
            "40/40 [==============================] - 1s 14ms/step - loss: 0.0315 - accuracy: 0.9926 - val_loss: 0.4917 - val_accuracy: 0.8742\n",
            "Epoch 15/15\n",
            "40/40 [==============================] - 1s 14ms/step - loss: 0.0255 - accuracy: 0.9948 - val_loss: 0.5456 - val_accuracy: 0.8694\n"
          ],
          "name": "stdout"
        }
      ]
    },
    {
      "cell_type": "markdown",
      "metadata": {
        "id": "9V_PIh-sYVLJ"
      },
      "source": [
        "## Visualise our results\n"
      ]
    },
    {
      "cell_type": "code",
      "metadata": {
        "id": "OYTAjT6VYbtf"
      },
      "source": [
        "import matplotlib.pyplot as plt\n"
      ],
      "execution_count": 40,
      "outputs": []
    },
    {
      "cell_type": "code",
      "metadata": {
        "id": "hyJ_5TY_Y5ds"
      },
      "source": [
        "h = hist.history\n"
      ],
      "execution_count": 41,
      "outputs": []
    },
    {
      "cell_type": "code",
      "metadata": {
        "id": "e_y2LhXIY9rU",
        "outputId": "7a185478-38fc-4528-fde2-013bd3a469eb",
        "colab": {
          "base_uri": "https://localhost:8080/",
          "height": 279
        }
      },
      "source": [
        "plt.plot(h['val_loss'] , label = \"Validation loss\")\n",
        "plt.plot(h['loss'] , label = \"Training loss\")\n",
        "plt.xlabel(\"Epochs\")\n",
        "plt.ylabel(\"Loss\")\n",
        "plt.legend()\n",
        "plt.show()"
      ],
      "execution_count": 42,
      "outputs": [
        {
          "output_type": "display_data",
          "data": {
            "image/png": "[encoded data removed]",
            "text/plain": [
              "<Figure size 432x288 with 1 Axes>"
            ]
          },
          "metadata": {
            "tags": [],
            "needs_background": "light"
          }
        }
      ]
    },
    {
      "cell_type": "code",
      "metadata": {
        "id": "AycXMm2MZaI4",
        "outputId": "d33a7b80-17d5-4b63-9d94-0d59d9ab3884",
        "colab": {
          "base_uri": "https://localhost:8080/",
          "height": 279
        }
      },
      "source": [
        "plt.plot(h['val_accuracy'] , label = \"Validation acc\")\n",
        "plt.plot(h['accuracy'] , label = \"Training acc\")\n",
        "plt.xlabel(\"Epochs\")\n",
        "plt.ylabel(\"acc\")\n",
        "plt.legend()\n",
        "plt.show()"
      ],
      "execution_count": 43,
      "outputs": [
        {
          "output_type": "display_data",
          "data": {
            "image/png": "[encoded data removed]",
            "text/plain": [
              "<Figure size 432x288 with 1 Axes>"
            ]
          },
          "metadata": {
            "tags": [],
            "needs_background": "light"
          }
        }
      ]
    },
    {
      "cell_type": "code",
      "metadata": {
        "id": "GE2QGGrUadUq",
        "outputId": "d990f278-9416-46ec-d137-2f91e5873358",
        "colab": {
          "base_uri": "https://localhost:8080/",
          "height": 51
        }
      },
      "source": [
        "model.evaluate(X_train ,Y_train)[1]\n"
      ],
      "execution_count": 44,
      "outputs": [
        {
          "output_type": "stream",
          "text": [
            "782/782 [==============================] - 2s 2ms/step - loss: 0.1221 - accuracy: 0.9720\n"
          ],
          "name": "stdout"
        },
        {
          "output_type": "execute_result",
          "data": {
            "text/plain": [
              "0.9720399975776672"
            ]
          },
          "metadata": {
            "tags": []
          },
          "execution_count": 44
        }
      ]
    },
    {
      "cell_type": "code",
      "metadata": {
        "id": "pAdhLXloaiRP",
        "outputId": "b295939f-a3a9-4a0c-8d6a-7ef0b5454c5f",
        "colab": {
          "base_uri": "https://localhost:8080/",
          "height": 51
        }
      },
      "source": [
        "model.evaluate(X_test,Y_test)[1]\n"
      ],
      "execution_count": 45,
      "outputs": [
        {
          "output_type": "stream",
          "text": [
            "782/782 [==============================] - 2s 2ms/step - loss: 0.6249 - accuracy: 0.8524\n"
          ],
          "name": "stdout"
        },
        {
          "output_type": "execute_result",
          "data": {
            "text/plain": [
              "0.852400004863739"
            ]
          },
          "metadata": {
            "tags": []
          },
          "execution_count": 45
        }
      ]
    },
    {
      "cell_type": "code",
      "metadata": {
        "id": "-VG-k2VMcplI",
        "outputId": "b4aad7eb-fd8e-401c-dd46-c8fcd99aaa3e",
        "colab": {
          "base_uri": "https://localhost:8080/",
          "height": 136
        }
      },
      "source": [
        "model.predict(X_test)"
      ],
      "execution_count": 46,
      "outputs": [
        {
          "output_type": "execute_result",
          "data": {
            "text/plain": [
              "array([[0.01379069],\n",
              "       [0.9999782 ],\n",
              "       [0.00818369],\n",
              "       ...,\n",
              "       [0.05539695],\n",
              "       [0.00954405],\n",
              "       [0.63640785]], dtype=float32)"
            ]
          },
          "metadata": {
            "tags": []
          },
          "execution_count": 46
        }
      ]
    },
    {
      "cell_type": "code",
      "metadata": {
        "id": "SCCwkHuodRpW"
      },
      "source": [
        ""
      ],
      "execution_count": 46,
      "outputs": []
    }
  ]
}